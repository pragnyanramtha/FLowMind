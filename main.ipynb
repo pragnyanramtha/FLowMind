{
 "cells": [
  {
   "cell_type": "code",
   "execution_count": null,
   "id": "c6a8dbfd",
   "metadata": {},
   "outputs": [],
   "source": [
    "! pip install matplotlib"
   ]
  },
  {
   "cell_type": "code",
   "execution_count": 5,
   "id": "d78a1368",
   "metadata": {},
   "outputs": [
    {
     "ename": "ImportError",
     "evalue": "matplotlib must be installed as an optional dependency for visualization.",
     "output_type": "error",
     "traceback": [
      "\u001b[31m---------------------------------------------------------------------------\u001b[39m",
      "\u001b[31mImportError\u001b[39m                               Traceback (most recent call last)",
      "\u001b[36mCell\u001b[39m\u001b[36m \u001b[39m\u001b[32mIn[5]\u001b[39m\u001b[32m, line 13\u001b[39m\n\u001b[32m     11\u001b[39m ox.save_graph_xml(graph_unsimplified, filepath=\u001b[33m\"\u001b[39m\u001b[33m./map.osm.xml\u001b[39m\u001b[33m\"\u001b[39m)\n\u001b[32m     12\u001b[39m graph_simplified = ox.graph_from_place(place_name, network_type=\u001b[33m'\u001b[39m\u001b[33mdrive\u001b[39m\u001b[33m'\u001b[39m)\n\u001b[32m---> \u001b[39m\u001b[32m13\u001b[39m fig, ax = \u001b[43mox\u001b[49m\u001b[43m.\u001b[49m\u001b[43mplot_graph\u001b[49m\u001b[43m(\u001b[49m\u001b[43mgraph_simplified\u001b[49m\u001b[43m)\u001b[49m\n\u001b[32m     14\u001b[39m plt.show() \n",
      "\u001b[36mFile \u001b[39m\u001b[32m~/FLowMind/.venv/lib/python3.11/site-packages/osmnx/plot.py:243\u001b[39m, in \u001b[36mplot_graph\u001b[39m\u001b[34m(G, ax, figsize, bgcolor, node_color, node_size, node_alpha, node_edgecolor, node_zorder, edge_color, edge_linewidth, edge_alpha, bbox, show, close, save, filepath, dpi)\u001b[39m\n\u001b[32m    170\u001b[39m \u001b[38;5;28;01mdef\u001b[39;00m\u001b[38;5;250m \u001b[39m\u001b[34mplot_graph\u001b[39m(  \u001b[38;5;66;03m# noqa: PLR0913\u001b[39;00m\n\u001b[32m    171\u001b[39m     G: nx.MultiGraph | nx.MultiDiGraph,\n\u001b[32m    172\u001b[39m     *,\n\u001b[32m   (...)\u001b[39m\u001b[32m    189\u001b[39m     dpi: \u001b[38;5;28mint\u001b[39m = \u001b[32m300\u001b[39m,\n\u001b[32m    190\u001b[39m ) -> \u001b[38;5;28mtuple\u001b[39m[Figure, Axes]:\n\u001b[32m    191\u001b[39m \u001b[38;5;250m    \u001b[39m\u001b[33;03m\"\"\"\u001b[39;00m\n\u001b[32m    192\u001b[39m \u001b[33;03m    Visualize a graph.\u001b[39;00m\n\u001b[32m    193\u001b[39m \n\u001b[32m   (...)\u001b[39m\u001b[32m    241\u001b[39m \u001b[33;03m        The resulting matplotlib figure and axes objects.\u001b[39;00m\n\u001b[32m    242\u001b[39m \u001b[33;03m    \"\"\"\u001b[39;00m\n\u001b[32m--> \u001b[39m\u001b[32m243\u001b[39m     \u001b[43m_verify_mpl\u001b[49m\u001b[43m(\u001b[49m\u001b[43m)\u001b[49m\n\u001b[32m    244\u001b[39m     max_node_size = \u001b[38;5;28mmax\u001b[39m(node_size) \u001b[38;5;28;01mif\u001b[39;00m \u001b[38;5;28misinstance\u001b[39m(node_size, Sequence) \u001b[38;5;28;01melse\u001b[39;00m node_size\n\u001b[32m    245\u001b[39m     max_edge_lw = \u001b[38;5;28mmax\u001b[39m(edge_linewidth) \u001b[38;5;28;01mif\u001b[39;00m \u001b[38;5;28misinstance\u001b[39m(edge_linewidth, Sequence) \u001b[38;5;28;01melse\u001b[39;00m edge_linewidth\n",
      "\u001b[36mFile \u001b[39m\u001b[32m~/FLowMind/.venv/lib/python3.11/site-packages/osmnx/plot.py:1067\u001b[39m, in \u001b[36m_verify_mpl\u001b[39m\u001b[34m()\u001b[39m\n\u001b[32m   1065\u001b[39m \u001b[38;5;28;01mif\u001b[39;00m \u001b[38;5;129;01mnot\u001b[39;00m mpl_available:  \u001b[38;5;66;03m# pragma: no cover\u001b[39;00m\n\u001b[32m   1066\u001b[39m     msg = \u001b[33m\"\u001b[39m\u001b[33mmatplotlib must be installed as an optional dependency for visualization.\u001b[39m\u001b[33m\"\u001b[39m\n\u001b[32m-> \u001b[39m\u001b[32m1067\u001b[39m     \u001b[38;5;28;01mraise\u001b[39;00m \u001b[38;5;167;01mImportError\u001b[39;00m(msg)\n",
      "\u001b[31mImportError\u001b[39m: matplotlib must be installed as an optional dependency for visualization."
     ]
    }
   ],
   "source": [
    "import osmnx as ox\n",
    "import matplotlib.pyplot as plt\n",
    "import matplotlib\n",
    "\n",
    "ox.settings.all_oneway = True\n",
    "\n",
    "\n",
    "place_name = \"Hyderabad, Telangana, India\"\n",
    "graph_unsimplified = ox.graph_from_place(place_name, network_type='drive', simplify=False)\n",
    "\n",
    "ox.save_graph_xml(graph_unsimplified, filepath=\"./map.osm.xml\")\n",
    "graph_simplified = ox.graph_from_place(place_name, network_type='drive')\n",
    "fig, ax = ox.plot_graph(graph_simplified)\n",
    "plt.show() "
   ]
  }
 ],
 "metadata": {
  "kernelspec": {
   "display_name": ".venv (3.11.13)",
   "language": "python",
   "name": "python3"
  },
  "language_info": {
   "codemirror_mode": {
    "name": "ipython",
    "version": 3
   },
   "file_extension": ".py",
   "mimetype": "text/x-python",
   "name": "python",
   "nbconvert_exporter": "python",
   "pygments_lexer": "ipython3",
   "version": "3.11.13"
  }
 },
 "nbformat": 4,
 "nbformat_minor": 5
}
